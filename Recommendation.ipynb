{
 "cells": [
  {
   "cell_type": "code",
   "execution_count": 74,
   "id": "720c7531",
   "metadata": {},
   "outputs": [],
   "source": [
    "import numpy as np\n",
    "import pandas as pd\n",
    "import matplotlib.pyplot as plt\n",
    "import seaborn as sns\n",
    "import statsmodels.api as sm\n",
    "from sklearn.model_selection import train_test_split,cross_validate\n",
    "import catboost\n",
    "from sklearn.preprocessing import StandardScaler,MinMaxScaler\n",
    "import plotly.express as px\n",
    "from mlxtend.plotting import plot_confusion_matrix\n",
    "from sklearn.metrics import confusion_matrix\n",
    "from sklearn.ensemble import RandomForestClassifier\n",
    "import plotly.io as pio\n",
    "pio.templates.default = \"plotly_dark\"\n",
    "sns.set_style(\"darkgrid\")\n",
    "pd.set_option.row_count = 50\n"
   ]
  },
  {
   "cell_type": "code",
   "execution_count": 75,
   "id": "c429871e",
   "metadata": {},
   "outputs": [],
   "source": [
    "events = pd.read_csv(\"./events.csv\")"
   ]
  },
  {
   "cell_type": "code",
   "execution_count": 76,
   "id": "bb399047",
   "metadata": {},
   "outputs": [
    {
     "data": {
      "text/html": [
       "<div>\n",
       "<style scoped>\n",
       "    .dataframe tbody tr th:only-of-type {\n",
       "        vertical-align: middle;\n",
       "    }\n",
       "\n",
       "    .dataframe tbody tr th {\n",
       "        vertical-align: top;\n",
       "    }\n",
       "\n",
       "    .dataframe thead th {\n",
       "        text-align: right;\n",
       "    }\n",
       "</style>\n",
       "<table border=\"1\" class=\"dataframe\">\n",
       "  <thead>\n",
       "    <tr style=\"text-align: right;\">\n",
       "      <th></th>\n",
       "      <th>timestamp</th>\n",
       "      <th>visitorid</th>\n",
       "      <th>event</th>\n",
       "      <th>itemid</th>\n",
       "      <th>transactionid</th>\n",
       "    </tr>\n",
       "  </thead>\n",
       "  <tbody>\n",
       "    <tr>\n",
       "      <th>0</th>\n",
       "      <td>1433221332117</td>\n",
       "      <td>257597</td>\n",
       "      <td>view</td>\n",
       "      <td>355908</td>\n",
       "      <td>NaN</td>\n",
       "    </tr>\n",
       "    <tr>\n",
       "      <th>1</th>\n",
       "      <td>1433224214164</td>\n",
       "      <td>992329</td>\n",
       "      <td>view</td>\n",
       "      <td>248676</td>\n",
       "      <td>NaN</td>\n",
       "    </tr>\n",
       "    <tr>\n",
       "      <th>2</th>\n",
       "      <td>1433221999827</td>\n",
       "      <td>111016</td>\n",
       "      <td>view</td>\n",
       "      <td>318965</td>\n",
       "      <td>NaN</td>\n",
       "    </tr>\n",
       "    <tr>\n",
       "      <th>3</th>\n",
       "      <td>1433221955914</td>\n",
       "      <td>483717</td>\n",
       "      <td>view</td>\n",
       "      <td>253185</td>\n",
       "      <td>NaN</td>\n",
       "    </tr>\n",
       "    <tr>\n",
       "      <th>4</th>\n",
       "      <td>1433221337106</td>\n",
       "      <td>951259</td>\n",
       "      <td>view</td>\n",
       "      <td>367447</td>\n",
       "      <td>NaN</td>\n",
       "    </tr>\n",
       "  </tbody>\n",
       "</table>\n",
       "</div>"
      ],
      "text/plain": [
       "       timestamp  visitorid event  itemid  transactionid\n",
       "0  1433221332117     257597  view  355908            NaN\n",
       "1  1433224214164     992329  view  248676            NaN\n",
       "2  1433221999827     111016  view  318965            NaN\n",
       "3  1433221955914     483717  view  253185            NaN\n",
       "4  1433221337106     951259  view  367447            NaN"
      ]
     },
     "execution_count": 76,
     "metadata": {},
     "output_type": "execute_result"
    }
   ],
   "source": [
    "events.head()"
   ]
  },
  {
   "cell_type": "markdown",
   "id": "a0788475",
   "metadata": {},
   "source": [
    "# events dataframe exploration"
   ]
  },
  {
   "cell_type": "code",
   "execution_count": 77,
   "id": "652da8e4",
   "metadata": {},
   "outputs": [
    {
     "name": "stdout",
     "output_type": "stream",
     "text": [
      "<class 'pandas.core.frame.DataFrame'>\n",
      "RangeIndex: 2756101 entries, 0 to 2756100\n",
      "Data columns (total 5 columns):\n",
      " #   Column         Dtype  \n",
      "---  ------         -----  \n",
      " 0   timestamp      int64  \n",
      " 1   visitorid      int64  \n",
      " 2   event          object \n",
      " 3   itemid         int64  \n",
      " 4   transactionid  float64\n",
      "dtypes: float64(1), int64(3), object(1)\n",
      "memory usage: 105.1+ MB\n"
     ]
    }
   ],
   "source": [
    "events.info()"
   ]
  },
  {
   "cell_type": "code",
   "execution_count": 78,
   "id": "11c2bf05",
   "metadata": {},
   "outputs": [
    {
     "data": {
      "text/plain": [
       "Index(['timestamp', 'visitorid', 'event', 'itemid', 'transactionid'], dtype='object')"
      ]
     },
     "execution_count": 78,
     "metadata": {},
     "output_type": "execute_result"
    }
   ],
   "source": [
    "events.columns"
   ]
  },
  {
   "cell_type": "code",
   "execution_count": 79,
   "id": "b25ec93e",
   "metadata": {},
   "outputs": [
    {
     "name": "stdout",
     "output_type": "stream",
     "text": [
      "Number of evnets is  2756101\n"
     ]
    }
   ],
   "source": [
    "print(\"Number of evnets is \",events.shape[0])"
   ]
  },
  {
   "cell_type": "code",
   "execution_count": 80,
   "id": "b868c64e",
   "metadata": {},
   "outputs": [
    {
     "data": {
      "text/html": [
       "<div>\n",
       "<style scoped>\n",
       "    .dataframe tbody tr th:only-of-type {\n",
       "        vertical-align: middle;\n",
       "    }\n",
       "\n",
       "    .dataframe tbody tr th {\n",
       "        vertical-align: top;\n",
       "    }\n",
       "\n",
       "    .dataframe thead th {\n",
       "        text-align: right;\n",
       "    }\n",
       "</style>\n",
       "<table border=\"1\" class=\"dataframe\">\n",
       "  <thead>\n",
       "    <tr style=\"text-align: right;\">\n",
       "      <th></th>\n",
       "      <th>timestamp</th>\n",
       "      <th>visitorid</th>\n",
       "      <th>event</th>\n",
       "      <th>itemid</th>\n",
       "      <th>transactionid</th>\n",
       "    </tr>\n",
       "  </thead>\n",
       "  <tbody>\n",
       "    <tr>\n",
       "      <th>0</th>\n",
       "      <td>1433221332117</td>\n",
       "      <td>257597</td>\n",
       "      <td>view</td>\n",
       "      <td>355908</td>\n",
       "      <td>NaN</td>\n",
       "    </tr>\n",
       "    <tr>\n",
       "      <th>1</th>\n",
       "      <td>1433224214164</td>\n",
       "      <td>992329</td>\n",
       "      <td>view</td>\n",
       "      <td>248676</td>\n",
       "      <td>NaN</td>\n",
       "    </tr>\n",
       "    <tr>\n",
       "      <th>2</th>\n",
       "      <td>1433221999827</td>\n",
       "      <td>111016</td>\n",
       "      <td>view</td>\n",
       "      <td>318965</td>\n",
       "      <td>NaN</td>\n",
       "    </tr>\n",
       "    <tr>\n",
       "      <th>3</th>\n",
       "      <td>1433221955914</td>\n",
       "      <td>483717</td>\n",
       "      <td>view</td>\n",
       "      <td>253185</td>\n",
       "      <td>NaN</td>\n",
       "    </tr>\n",
       "    <tr>\n",
       "      <th>4</th>\n",
       "      <td>1433221337106</td>\n",
       "      <td>951259</td>\n",
       "      <td>view</td>\n",
       "      <td>367447</td>\n",
       "      <td>NaN</td>\n",
       "    </tr>\n",
       "  </tbody>\n",
       "</table>\n",
       "</div>"
      ],
      "text/plain": [
       "       timestamp  visitorid event  itemid  transactionid\n",
       "0  1433221332117     257597  view  355908            NaN\n",
       "1  1433224214164     992329  view  248676            NaN\n",
       "2  1433221999827     111016  view  318965            NaN\n",
       "3  1433221955914     483717  view  253185            NaN\n",
       "4  1433221337106     951259  view  367447            NaN"
      ]
     },
     "execution_count": 80,
     "metadata": {},
     "output_type": "execute_result"
    }
   ],
   "source": [
    "events.head()"
   ]
  },
  {
   "cell_type": "markdown",
   "id": "8b0315fc",
   "metadata": {},
   "source": [
    "**Convert timestamp to Readable date format**"
   ]
  },
  {
   "cell_type": "code",
   "execution_count": 81,
   "id": "5ad2e93a",
   "metadata": {},
   "outputs": [],
   "source": [
    "import datetime\n",
    "times =[]\n",
    "for time in events.timestamp:\n",
    "    times.append(datetime.datetime.fromtimestamp(time//1000)) \n",
    "events[\"timestamp\"] = times"
   ]
  },
  {
   "cell_type": "code",
   "execution_count": 82,
   "id": "71691a89",
   "metadata": {},
   "outputs": [
    {
     "data": {
      "text/html": [
       "<div>\n",
       "<style scoped>\n",
       "    .dataframe tbody tr th:only-of-type {\n",
       "        vertical-align: middle;\n",
       "    }\n",
       "\n",
       "    .dataframe tbody tr th {\n",
       "        vertical-align: top;\n",
       "    }\n",
       "\n",
       "    .dataframe thead th {\n",
       "        text-align: right;\n",
       "    }\n",
       "</style>\n",
       "<table border=\"1\" class=\"dataframe\">\n",
       "  <thead>\n",
       "    <tr style=\"text-align: right;\">\n",
       "      <th></th>\n",
       "      <th>timestamp</th>\n",
       "      <th>visitorid</th>\n",
       "      <th>event</th>\n",
       "      <th>itemid</th>\n",
       "      <th>transactionid</th>\n",
       "    </tr>\n",
       "  </thead>\n",
       "  <tbody>\n",
       "    <tr>\n",
       "      <th>0</th>\n",
       "      <td>2015-06-02 07:02:12</td>\n",
       "      <td>257597</td>\n",
       "      <td>view</td>\n",
       "      <td>355908</td>\n",
       "      <td>NaN</td>\n",
       "    </tr>\n",
       "    <tr>\n",
       "      <th>1</th>\n",
       "      <td>2015-06-02 07:50:14</td>\n",
       "      <td>992329</td>\n",
       "      <td>view</td>\n",
       "      <td>248676</td>\n",
       "      <td>NaN</td>\n",
       "    </tr>\n",
       "    <tr>\n",
       "      <th>2</th>\n",
       "      <td>2015-06-02 07:13:19</td>\n",
       "      <td>111016</td>\n",
       "      <td>view</td>\n",
       "      <td>318965</td>\n",
       "      <td>NaN</td>\n",
       "    </tr>\n",
       "    <tr>\n",
       "      <th>3</th>\n",
       "      <td>2015-06-02 07:12:35</td>\n",
       "      <td>483717</td>\n",
       "      <td>view</td>\n",
       "      <td>253185</td>\n",
       "      <td>NaN</td>\n",
       "    </tr>\n",
       "    <tr>\n",
       "      <th>4</th>\n",
       "      <td>2015-06-02 07:02:17</td>\n",
       "      <td>951259</td>\n",
       "      <td>view</td>\n",
       "      <td>367447</td>\n",
       "      <td>NaN</td>\n",
       "    </tr>\n",
       "  </tbody>\n",
       "</table>\n",
       "</div>"
      ],
      "text/plain": [
       "            timestamp  visitorid event  itemid  transactionid\n",
       "0 2015-06-02 07:02:12     257597  view  355908            NaN\n",
       "1 2015-06-02 07:50:14     992329  view  248676            NaN\n",
       "2 2015-06-02 07:13:19     111016  view  318965            NaN\n",
       "3 2015-06-02 07:12:35     483717  view  253185            NaN\n",
       "4 2015-06-02 07:02:17     951259  view  367447            NaN"
      ]
     },
     "execution_count": 82,
     "metadata": {},
     "output_type": "execute_result"
    }
   ],
   "source": [
    "events.head()"
   ]
  },
  {
   "cell_type": "code",
   "execution_count": 83,
   "id": "293d2918",
   "metadata": {},
   "outputs": [
    {
     "data": {
      "text/plain": [
       "timestamp              0\n",
       "visitorid              0\n",
       "event                  0\n",
       "itemid                 0\n",
       "transactionid    2733644\n",
       "dtype: int64"
      ]
     },
     "execution_count": 83,
     "metadata": {},
     "output_type": "execute_result"
    }
   ],
   "source": [
    "events.isnull().sum()"
   ]
  },
  {
   "cell_type": "markdown",
   "id": "a838b067",
   "metadata": {},
   "source": [
    "**About 99% of the transaction_id column is null which means that the purchased items are not many**"
   ]
  },
  {
   "cell_type": "code",
   "execution_count": 86,
   "id": "2f267119",
   "metadata": {},
   "outputs": [
    {
     "data": {
      "text/plain": [
       "view           2664312\n",
       "addtocart        69332\n",
       "transaction      22457\n",
       "Name: event, dtype: int64"
      ]
     },
     "execution_count": 86,
     "metadata": {},
     "output_type": "execute_result"
    }
   ],
   "source": [
    "events.event.value_counts()"
   ]
  },
  {
   "cell_type": "code",
   "execution_count": 84,
   "id": "c7bbf701",
   "metadata": {},
   "outputs": [
    {
     "name": "stdout",
     "output_type": "stream",
     "text": [
      "number of unique visitors:  1407580\n"
     ]
    }
   ],
   "source": [
    "print(\"number of unique visitors: \",events.visitorid.nunique())"
   ]
  },
  {
   "cell_type": "code",
   "execution_count": 85,
   "id": "b03d2bd6",
   "metadata": {},
   "outputs": [
    {
     "name": "stdout",
     "output_type": "stream",
     "text": [
      "non-null transaction id:  22457\n",
      "unique transaction id:  17672\n"
     ]
    }
   ],
   "source": [
    "print(\"non-null transaction id: \",(events.transactionid.isnull()==0).sum())\n",
    "print(\"unique transaction id: \",events.transactionid.nunique())"
   ]
  },
  {
   "cell_type": "markdown",
   "id": "e11ab704",
   "metadata": {},
   "source": [
    "#### Remove Duplicates"
   ]
  },
  {
   "cell_type": "code",
   "execution_count": 87,
   "id": "1c9150ff",
   "metadata": {},
   "outputs": [
    {
     "name": "stdout",
     "output_type": "stream",
     "text": [
      "original entries=  2756101\n",
      "after removing duplicates=  2752009\n"
     ]
    }
   ],
   "source": [
    "print(\"original entries= \",events.shape[0])\n",
    "events.drop_duplicates(inplace=True)\n",
    "print(\"after removing duplicates= \",events.shape[0])"
   ]
  },
  {
   "cell_type": "code",
   "execution_count": 88,
   "id": "41ad716e",
   "metadata": {},
   "outputs": [
    {
     "name": "stdout",
     "output_type": "stream",
     "text": [
      "number of visitors who acctually purchased items is:  11719\n"
     ]
    }
   ],
   "source": [
    "buyersList = events[events.event==\"transaction\"][\"visitorid\"]\n",
    "print(\"number of visitors who acctually purchased items is: \" ,buyersList.nunique())"
   ]
  },
  {
   "cell_type": "markdown",
   "id": "f61a1d89",
   "metadata": {},
   "source": [
    "## Let's build our recommendation model\n",
    "   - At first we create dataframe of all transaction events"
   ]
  },
  {
   "cell_type": "code",
   "execution_count": 93,
   "id": "6c4b1989",
   "metadata": {
    "scrolled": false
   },
   "outputs": [
    {
     "data": {
      "text/html": [
       "<div>\n",
       "<style scoped>\n",
       "    .dataframe tbody tr th:only-of-type {\n",
       "        vertical-align: middle;\n",
       "    }\n",
       "\n",
       "    .dataframe tbody tr th {\n",
       "        vertical-align: top;\n",
       "    }\n",
       "\n",
       "    .dataframe thead th {\n",
       "        text-align: right;\n",
       "    }\n",
       "</style>\n",
       "<table border=\"1\" class=\"dataframe\">\n",
       "  <thead>\n",
       "    <tr style=\"text-align: right;\">\n",
       "      <th></th>\n",
       "      <th>timestamp</th>\n",
       "      <th>visitorid</th>\n",
       "      <th>event</th>\n",
       "      <th>itemid</th>\n",
       "      <th>transactionid</th>\n",
       "    </tr>\n",
       "  </thead>\n",
       "  <tbody>\n",
       "    <tr>\n",
       "      <th>130</th>\n",
       "      <td>2015-06-02 07:17:56</td>\n",
       "      <td>599528</td>\n",
       "      <td>transaction</td>\n",
       "      <td>356475</td>\n",
       "      <td>4000.0</td>\n",
       "    </tr>\n",
       "    <tr>\n",
       "      <th>304</th>\n",
       "      <td>2015-06-01 23:18:20</td>\n",
       "      <td>121688</td>\n",
       "      <td>transaction</td>\n",
       "      <td>15335</td>\n",
       "      <td>11117.0</td>\n",
       "    </tr>\n",
       "    <tr>\n",
       "      <th>418</th>\n",
       "      <td>2015-06-01 23:25:15</td>\n",
       "      <td>552148</td>\n",
       "      <td>transaction</td>\n",
       "      <td>81345</td>\n",
       "      <td>5444.0</td>\n",
       "    </tr>\n",
       "    <tr>\n",
       "      <th>814</th>\n",
       "      <td>2015-06-01 18:38:56</td>\n",
       "      <td>102019</td>\n",
       "      <td>transaction</td>\n",
       "      <td>150318</td>\n",
       "      <td>13556.0</td>\n",
       "    </tr>\n",
       "    <tr>\n",
       "      <th>843</th>\n",
       "      <td>2015-06-01 18:01:58</td>\n",
       "      <td>189384</td>\n",
       "      <td>transaction</td>\n",
       "      <td>310791</td>\n",
       "      <td>7244.0</td>\n",
       "    </tr>\n",
       "  </tbody>\n",
       "</table>\n",
       "</div>"
      ],
      "text/plain": [
       "              timestamp  visitorid        event  itemid  transactionid\n",
       "130 2015-06-02 07:17:56     599528  transaction  356475         4000.0\n",
       "304 2015-06-01 23:18:20     121688  transaction   15335        11117.0\n",
       "418 2015-06-01 23:25:15     552148  transaction   81345         5444.0\n",
       "814 2015-06-01 18:38:56     102019  transaction  150318        13556.0\n",
       "843 2015-06-01 18:01:58     189384  transaction  310791         7244.0"
      ]
     },
     "execution_count": 93,
     "metadata": {},
     "output_type": "execute_result"
    }
   ],
   "source": [
    "transc_df = events[events.event==\"transaction\"]\n",
    "transc_df.head()"
   ]
  },
  {
   "cell_type": "markdown",
   "id": "89e9b4d1",
   "metadata": {},
   "source": [
    "**we will make a better representation of the itemid and visitor id**"
   ]
  },
  {
   "cell_type": "code",
   "execution_count": 94,
   "id": "e869d746",
   "metadata": {},
   "outputs": [
    {
     "name": "stderr",
     "output_type": "stream",
     "text": [
      "/tmp/ipykernel_64731/2565408624.py:3: SettingWithCopyWarning:\n",
      "\n",
      "\n",
      "A value is trying to be set on a copy of a slice from a DataFrame.\n",
      "Try using .loc[row_indexer,col_indexer] = value instead\n",
      "\n",
      "See the caveats in the documentation: https://pandas.pydata.org/pandas-docs/stable/user_guide/indexing.html#returning-a-view-versus-a-copy\n",
      "\n",
      "/tmp/ipykernel_64731/2565408624.py:4: SettingWithCopyWarning:\n",
      "\n",
      "\n",
      "A value is trying to be set on a copy of a slice from a DataFrame.\n",
      "Try using .loc[row_indexer,col_indexer] = value instead\n",
      "\n",
      "See the caveats in the documentation: https://pandas.pydata.org/pandas-docs/stable/user_guide/indexing.html#returning-a-view-versus-a-copy\n",
      "\n"
     ]
    }
   ],
   "source": [
    "buyers = transc_df['visitorid'].unique()\n",
    "items = transc_df['itemid'].unique()\n",
    "transc_df['buyers'] = transc_df['visitorid'].apply(lambda x : np.argwhere(buyers == x)[0][0])\n",
    "transc_df['items'] = transc_df['itemid'].apply(lambda x : np.argwhere(items == x)[0][0])"
   ]
  },
  {
   "cell_type": "code",
   "execution_count": 95,
   "id": "b3af73ba",
   "metadata": {},
   "outputs": [
    {
     "data": {
      "text/html": [
       "<div>\n",
       "<style scoped>\n",
       "    .dataframe tbody tr th:only-of-type {\n",
       "        vertical-align: middle;\n",
       "    }\n",
       "\n",
       "    .dataframe tbody tr th {\n",
       "        vertical-align: top;\n",
       "    }\n",
       "\n",
       "    .dataframe thead th {\n",
       "        text-align: right;\n",
       "    }\n",
       "</style>\n",
       "<table border=\"1\" class=\"dataframe\">\n",
       "  <thead>\n",
       "    <tr style=\"text-align: right;\">\n",
       "      <th></th>\n",
       "      <th>timestamp</th>\n",
       "      <th>visitorid</th>\n",
       "      <th>event</th>\n",
       "      <th>itemid</th>\n",
       "      <th>transactionid</th>\n",
       "      <th>buyers</th>\n",
       "      <th>items</th>\n",
       "    </tr>\n",
       "  </thead>\n",
       "  <tbody>\n",
       "    <tr>\n",
       "      <th>130</th>\n",
       "      <td>2015-06-02 07:17:56</td>\n",
       "      <td>599528</td>\n",
       "      <td>transaction</td>\n",
       "      <td>356475</td>\n",
       "      <td>4000.0</td>\n",
       "      <td>0</td>\n",
       "      <td>0</td>\n",
       "    </tr>\n",
       "    <tr>\n",
       "      <th>304</th>\n",
       "      <td>2015-06-01 23:18:20</td>\n",
       "      <td>121688</td>\n",
       "      <td>transaction</td>\n",
       "      <td>15335</td>\n",
       "      <td>11117.0</td>\n",
       "      <td>1</td>\n",
       "      <td>1</td>\n",
       "    </tr>\n",
       "    <tr>\n",
       "      <th>418</th>\n",
       "      <td>2015-06-01 23:25:15</td>\n",
       "      <td>552148</td>\n",
       "      <td>transaction</td>\n",
       "      <td>81345</td>\n",
       "      <td>5444.0</td>\n",
       "      <td>2</td>\n",
       "      <td>2</td>\n",
       "    </tr>\n",
       "    <tr>\n",
       "      <th>814</th>\n",
       "      <td>2015-06-01 18:38:56</td>\n",
       "      <td>102019</td>\n",
       "      <td>transaction</td>\n",
       "      <td>150318</td>\n",
       "      <td>13556.0</td>\n",
       "      <td>3</td>\n",
       "      <td>3</td>\n",
       "    </tr>\n",
       "    <tr>\n",
       "      <th>843</th>\n",
       "      <td>2015-06-01 18:01:58</td>\n",
       "      <td>189384</td>\n",
       "      <td>transaction</td>\n",
       "      <td>310791</td>\n",
       "      <td>7244.0</td>\n",
       "      <td>4</td>\n",
       "      <td>4</td>\n",
       "    </tr>\n",
       "  </tbody>\n",
       "</table>\n",
       "</div>"
      ],
      "text/plain": [
       "              timestamp  visitorid        event  itemid  transactionid  \\\n",
       "130 2015-06-02 07:17:56     599528  transaction  356475         4000.0   \n",
       "304 2015-06-01 23:18:20     121688  transaction   15335        11117.0   \n",
       "418 2015-06-01 23:25:15     552148  transaction   81345         5444.0   \n",
       "814 2015-06-01 18:38:56     102019  transaction  150318        13556.0   \n",
       "843 2015-06-01 18:01:58     189384  transaction  310791         7244.0   \n",
       "\n",
       "     buyers  items  \n",
       "130       0      0  \n",
       "304       1      1  \n",
       "418       2      2  \n",
       "814       3      3  \n",
       "843       4      4  "
      ]
     },
     "execution_count": 95,
     "metadata": {},
     "output_type": "execute_result"
    }
   ],
   "source": [
    "transc_df.head()"
   ]
  },
  {
   "cell_type": "markdown",
   "id": "00f718ae",
   "metadata": {},
   "source": [
    "### *That's a little bit better*"
   ]
  },
  {
   "cell_type": "code",
   "execution_count": 96,
   "id": "3b22e955",
   "metadata": {},
   "outputs": [
    {
     "data": {
      "text/plain": [
       "11719"
      ]
     },
     "execution_count": 96,
     "metadata": {},
     "output_type": "execute_result"
    }
   ],
   "source": [
    "transc_df.buyers.nunique()"
   ]
  },
  {
   "cell_type": "markdown",
   "id": "3d2cc5c4",
   "metadata": {},
   "source": [
    "**We have 11719 unique buyer out of 22451**"
   ]
  },
  {
   "cell_type": "markdown",
   "id": "94903224",
   "metadata": {},
   "source": [
    "### *To build our model we neet to construct buyer-item matrix and item-item matrix*\n",
    "   - To do so we with normal matirx we gonna need huge amount of memory to store the values,Instead we gonna use sparse matrix"
   ]
  },
  {
   "cell_type": "code",
   "execution_count": 97,
   "id": "69046dd1",
   "metadata": {},
   "outputs": [],
   "source": [
    "from scipy.sparse import csr_matrix"
   ]
  },
  {
   "cell_type": "code",
   "execution_count": 98,
   "id": "6cdbfe25",
   "metadata": {},
   "outputs": [
    {
     "name": "stderr",
     "output_type": "stream",
     "text": [
      "/home/eslam/.local/lib/python3.8/site-packages/scipy/sparse/_index.py:82: SparseEfficiencyWarning:\n",
      "\n",
      "Changing the sparsity structure of a csr_matrix is expensive. lil_matrix is more efficient.\n",
      "\n"
     ]
    },
    {
     "data": {
      "text/plain": [
       "<11719x12025 sparse matrix of type '<class 'numpy.int8'>'\n",
       "\twith 21270 stored elements in Compressed Sparse Row format>"
      ]
     },
     "execution_count": 98,
     "metadata": {},
     "output_type": "execute_result"
    }
   ],
   "source": [
    "occurences = csr_matrix((buyers.shape[0], items.shape[0]), dtype='int8')\n",
    "def set_occurences(buyers, item):\n",
    "    occurences[buyers, item] += 1\n",
    "transc_df.apply(lambda row: set_occurences(row['buyers'], row['items']), axis=1)\n",
    "occurences"
   ]
  },
  {
   "cell_type": "markdown",
   "id": "e6bcbc82",
   "metadata": {},
   "source": [
    "**From 140 Million value only 221270 are stored so memory usage is imporved by 99.9%**"
   ]
  },
  {
   "cell_type": "markdown",
   "id": "92d01c20",
   "metadata": {},
   "source": [
    "### Now let's construct item-item co-occurrence matrix  with the same way\n",
    " - A beautiful way to do so is to multiply the the occurence matrix by its transpose"
   ]
  },
  {
   "cell_type": "code",
   "execution_count": 100,
   "id": "bcc1fc4d",
   "metadata": {},
   "outputs": [],
   "source": [
    "cooc = occurences.transpose().dot(occurences)\n",
    "cooc.setdiag(0) # ignoring the item occerance with itself"
   ]
  },
  {
   "cell_type": "markdown",
   "id": "5c11ea77",
   "metadata": {},
   "source": [
    "- The cooc matrix holds the number of ocerances of row items with column items"
   ]
  },
  {
   "cell_type": "code",
   "execution_count": 101,
   "id": "e2784d5f",
   "metadata": {},
   "outputs": [
    {
     "data": {
      "text/plain": [
       "(12025, 12025)"
      ]
     },
     "execution_count": 101,
     "metadata": {},
     "output_type": "execute_result"
    }
   ],
   "source": [
    "cooc.shape"
   ]
  },
  {
   "cell_type": "markdown",
   "id": "569b0183",
   "metadata": {},
   "source": [
    "- **Sort the result, so that the highest number of ocerances in each item is on the first column of each row.**"
   ]
  },
  {
   "cell_type": "code",
   "execution_count": 102,
   "id": "47b81ab7",
   "metadata": {},
   "outputs": [],
   "source": [
    "def recommended_items(bought_items,cooc_matrix):\n",
    "    recommended_items = []\n",
    "    ocerances = []\n",
    "    for item in bought_items:\n",
    "        number = np.flip(np.sort(cooc_matrix.A, axis=1), axis=1)\n",
    "        items = np.flip(np.argsort(cooc_matrix.A, axis=1), axis=1)\n",
    "        number = number[item][number[item]>3]\n",
    "        \n",
    "        recommended_items.append(list(items[item,:len(number)]))\n",
    "        ocerances.append(list(number))\n",
    "        \n",
    "    recommended_items = [item for sublist in recommended_items for item in sublist]\n",
    "    ocerances = [item for sublist in ocerances for item in sublist]\n",
    "    return recommended_items,ocerances"
   ]
  },
  {
   "cell_type": "code",
   "execution_count": 103,
   "id": "784529c3",
   "metadata": {},
   "outputs": [],
   "source": [
    "bought_items = [380]\n",
    "recommended_item,numbers = recommended_items(bought_items,cooc)"
   ]
  },
  {
   "cell_type": "code",
   "execution_count": 104,
   "id": "f1602cb2",
   "metadata": {},
   "outputs": [
    {
     "name": "stdout",
     "output_type": "stream",
     "text": [
      "people who bought [380] also bought [8456, 8682]\n",
      "with number of ocerances:  [17, 16]\n"
     ]
    }
   ],
   "source": [
    "print(\"people who bought {0} also bought {1}\".format(bought_items,recommended_item))\n",
    "print(\"with number of ocerances: \",numbers)"
   ]
  },
  {
   "cell_type": "markdown",
   "id": "865535bc",
   "metadata": {},
   "source": [
    "- We can say that with a high number of ocerances, item 8456 and 8682 can be an indicator for item 380.  "
   ]
  },
  {
   "cell_type": "markdown",
   "id": "508bfc3f",
   "metadata": {},
   "source": [
    "# Predict abnormal user"
   ]
  },
  {
   "cell_type": "code",
   "execution_count": 105,
   "id": "b6c81a22",
   "metadata": {},
   "outputs": [],
   "source": [
    "visitors = events.visitorid.sort_values().unique()\n",
    "buyers = events[events.event == 'transaction'].visitorid.sort_values().unique()\n",
    "viewers = list(set(visitors) - set(buyers))"
   ]
  },
  {
   "cell_type": "code",
   "execution_count": 106,
   "id": "f6f06dcb",
   "metadata": {},
   "outputs": [
    {
     "name": "stdout",
     "output_type": "stream",
     "text": [
      "Out of 1407580 unique visitors there are only 11719 visitor who bought something\n",
      "and 1395861 visitor who only viewed items \n"
     ]
    }
   ],
   "source": [
    "print(\"Out of {0} unique visitors there are only {1} visitor who bought something\\nand {2} visitor who only viewed items \".format(len(visitors),len(buyers),len(viewers)))"
   ]
  },
  {
   "cell_type": "code",
   "execution_count": 107,
   "id": "b1a49c1c",
   "metadata": {},
   "outputs": [],
   "source": [
    "view_count = events[events.event == \"view\"].groupby(\"visitorid\").size().reset_index(name='counts')\n",
    "bought_count = events[events.event == \"transaction\"].groupby(\"visitorid\").size().reset_index(name='counts')\n",
    "add_to_cart = events[events.event == \"addtocart\"].groupby(\"visitorid\").size().reset_index(name='counts')"
   ]
  },
  {
   "cell_type": "code",
   "execution_count": 108,
   "id": "aabc1719",
   "metadata": {},
   "outputs": [],
   "source": [
    "nv = list(set(visitors)-set(view_count.visitorid))\n",
    "nv1 = pd.DataFrame(nv,columns=[\"visitorid\"])\n",
    "nv1[\"counts\"]=0\n",
    "view_count = pd.concat([nv1,view_count]).sort_values(by=\"visitorid\")"
   ]
  },
  {
   "cell_type": "code",
   "execution_count": 109,
   "id": "8bb4a3b4",
   "metadata": {},
   "outputs": [],
   "source": [
    "v = list(set(visitors)-set(bought_count.visitorid))\n",
    "v1 = pd.DataFrame(v,columns=[\"visitorid\"])\n",
    "v1[\"counts\"]=0\n",
    "bought_count = pd.concat([v1,bought_count],axis=0).sort_values(by=\"visitorid\")"
   ]
  },
  {
   "cell_type": "code",
   "execution_count": 110,
   "id": "0e8dfa28",
   "metadata": {},
   "outputs": [],
   "source": [
    "c = list(set(visitors)-set(add_to_cart.visitorid))\n",
    "atc = pd.DataFrame(c,columns=[\"visitorid\"])\n",
    "atc[\"counts\"]=0\n",
    "add_to_cart = pd.concat([atc,add_to_cart],axis=0).sort_values(by=\"visitorid\")"
   ]
  },
  {
   "cell_type": "code",
   "execution_count": 111,
   "id": "6ec88c39",
   "metadata": {
    "scrolled": false
   },
   "outputs": [
    {
     "data": {
      "text/html": [
       "<div>\n",
       "<style scoped>\n",
       "    .dataframe tbody tr th:only-of-type {\n",
       "        vertical-align: middle;\n",
       "    }\n",
       "\n",
       "    .dataframe tbody tr th {\n",
       "        vertical-align: top;\n",
       "    }\n",
       "\n",
       "    .dataframe thead th {\n",
       "        text-align: right;\n",
       "    }\n",
       "</style>\n",
       "<table border=\"1\" class=\"dataframe\">\n",
       "  <thead>\n",
       "    <tr style=\"text-align: right;\">\n",
       "      <th></th>\n",
       "      <th>visitorid</th>\n",
       "      <th>view_count</th>\n",
       "      <th>bought_count</th>\n",
       "      <th>addtocart_count</th>\n",
       "      <th>no_view_purchase</th>\n",
       "      <th>label</th>\n",
       "    </tr>\n",
       "  </thead>\n",
       "  <tbody>\n",
       "    <tr>\n",
       "      <th>0</th>\n",
       "      <td>0</td>\n",
       "      <td>3</td>\n",
       "      <td>0</td>\n",
       "      <td>0</td>\n",
       "      <td>0</td>\n",
       "      <td>1</td>\n",
       "    </tr>\n",
       "    <tr>\n",
       "      <th>1</th>\n",
       "      <td>1</td>\n",
       "      <td>1</td>\n",
       "      <td>0</td>\n",
       "      <td>0</td>\n",
       "      <td>0</td>\n",
       "      <td>1</td>\n",
       "    </tr>\n",
       "    <tr>\n",
       "      <th>2</th>\n",
       "      <td>2</td>\n",
       "      <td>8</td>\n",
       "      <td>0</td>\n",
       "      <td>0</td>\n",
       "      <td>0</td>\n",
       "      <td>1</td>\n",
       "    </tr>\n",
       "    <tr>\n",
       "      <th>3</th>\n",
       "      <td>3</td>\n",
       "      <td>1</td>\n",
       "      <td>0</td>\n",
       "      <td>0</td>\n",
       "      <td>0</td>\n",
       "      <td>1</td>\n",
       "    </tr>\n",
       "    <tr>\n",
       "      <th>4</th>\n",
       "      <td>4</td>\n",
       "      <td>1</td>\n",
       "      <td>0</td>\n",
       "      <td>0</td>\n",
       "      <td>0</td>\n",
       "      <td>1</td>\n",
       "    </tr>\n",
       "  </tbody>\n",
       "</table>\n",
       "</div>"
      ],
      "text/plain": [
       "   visitorid  view_count  bought_count  addtocart_count  no_view_purchase  \\\n",
       "0          0           3             0                0                 0   \n",
       "1          1           1             0                0                 0   \n",
       "2          2           8             0                0                 0   \n",
       "3          3           1             0                0                 0   \n",
       "4          4           1             0                0                 0   \n",
       "\n",
       "   label  \n",
       "0      1  \n",
       "1      1  \n",
       "2      1  \n",
       "3      1  \n",
       "4      1  "
      ]
     },
     "execution_count": 111,
     "metadata": {},
     "output_type": "execute_result"
    }
   ],
   "source": [
    "visitor_idss = list(view_count.visitorid)\n",
    "view_counts = list(view_count.counts)\n",
    "bought_counts = list(bought_count.counts)\n",
    "addtocart_count = list(add_to_cart.counts)\n",
    "final_features = pd.DataFrame({\"visitorid\":visitor_idss,\n",
    "                               \"view_count\":view_counts,\"bought_count\":bought_counts,\n",
    "                               \"addtocart_count\":addtocart_count})\n",
    "\n",
    "final_features[\"no_view_purchase\"] = 0\n",
    "\n",
    "final_features[\"label\"] = 1\n",
    "\n",
    "final_features.head()"
   ]
  },
  {
   "cell_type": "code",
   "execution_count": 112,
   "id": "10d3d6df",
   "metadata": {},
   "outputs": [
    {
     "data": {
      "image/png": "[encoded data removed]",
      "text/plain": [
       "<Figure size 432x288 with 1 Axes>"
      ]
     },
     "metadata": {},
     "output_type": "display_data"
    }
   ],
   "source": [
    "plt.scatter(final_features.view_count,final_features.bought_count)\n",
    "plt.xlabel(\"view_count\")\n",
    "plt.ylabel(\"bought_count\")\n",
    "plt.show()"
   ]
  },
  {
   "cell_type": "markdown",
   "id": "7d5c2bf9",
   "metadata": {},
   "source": [
    "*well there is no high correlation between the view count and items bought as shown in graph*"
   ]
  },
  {
   "cell_type": "code",
   "execution_count": 113,
   "id": "6b560198",
   "metadata": {},
   "outputs": [
    {
     "data": {
      "image/png": "[encoded data removed]",
      "text/plain": [
       "<Figure size 432x288 with 1 Axes>"
      ]
     },
     "metadata": {},
     "output_type": "display_data"
    }
   ],
   "source": [
    "plt.scatter(final_features.addtocart_count,final_features.bought_count)\n",
    "plt.xlabel(\"addtocart_count\")\n",
    "plt.ylabel(\"bought_count\")\n",
    "plt.show()"
   ]
  },
  {
   "cell_type": "markdown",
   "id": "07ccfd8a",
   "metadata": {},
   "source": [
    "*There is some kind of linear correlation between both features*"
   ]
  },
  {
   "cell_type": "code",
   "execution_count": 114,
   "id": "9101ed65",
   "metadata": {},
   "outputs": [],
   "source": [
    "final_features.loc[final_features[\"visitorid\"].isin(nv),'label'] = 1\n",
    "final_features.loc[(final_features.addtocart_count>0) &(final_features.bought_count>0)\n",
    ",'label'] = 0\n",
    "final_features.loc[final_features.visitorid.isin(nv),\"no_view_purchase\"] = 1 #user bought somthing without viewing it\n",
    "final_features.loc[(final_features.bought_count/final_features.view_count) < 0.1, \n",
    "                  \"label\"]=1 # if the user view more than 200 items and bought less than 10 items\n"
   ]
  },
  {
   "cell_type": "code",
   "execution_count": 115,
   "id": "cd00b579",
   "metadata": {},
   "outputs": [
    {
     "data": {
      "text/html": [
       "<div>\n",
       "<style scoped>\n",
       "    .dataframe tbody tr th:only-of-type {\n",
       "        vertical-align: middle;\n",
       "    }\n",
       "\n",
       "    .dataframe tbody tr th {\n",
       "        vertical-align: top;\n",
       "    }\n",
       "\n",
       "    .dataframe thead th {\n",
       "        text-align: right;\n",
       "    }\n",
       "</style>\n",
       "<table border=\"1\" class=\"dataframe\">\n",
       "  <thead>\n",
       "    <tr style=\"text-align: right;\">\n",
       "      <th></th>\n",
       "      <th>visitorid</th>\n",
       "      <th>view_count</th>\n",
       "      <th>bought_count</th>\n",
       "      <th>addtocart_count</th>\n",
       "      <th>no_view_purchase</th>\n",
       "      <th>label</th>\n",
       "    </tr>\n",
       "  </thead>\n",
       "  <tbody>\n",
       "    <tr>\n",
       "      <th>0</th>\n",
       "      <td>0</td>\n",
       "      <td>3</td>\n",
       "      <td>0</td>\n",
       "      <td>0</td>\n",
       "      <td>0</td>\n",
       "      <td>1</td>\n",
       "    </tr>\n",
       "    <tr>\n",
       "      <th>1</th>\n",
       "      <td>1</td>\n",
       "      <td>1</td>\n",
       "      <td>0</td>\n",
       "      <td>0</td>\n",
       "      <td>0</td>\n",
       "      <td>1</td>\n",
       "    </tr>\n",
       "    <tr>\n",
       "      <th>2</th>\n",
       "      <td>2</td>\n",
       "      <td>8</td>\n",
       "      <td>0</td>\n",
       "      <td>0</td>\n",
       "      <td>0</td>\n",
       "      <td>1</td>\n",
       "    </tr>\n",
       "    <tr>\n",
       "      <th>3</th>\n",
       "      <td>3</td>\n",
       "      <td>1</td>\n",
       "      <td>0</td>\n",
       "      <td>0</td>\n",
       "      <td>0</td>\n",
       "      <td>1</td>\n",
       "    </tr>\n",
       "    <tr>\n",
       "      <th>4</th>\n",
       "      <td>4</td>\n",
       "      <td>1</td>\n",
       "      <td>0</td>\n",
       "      <td>0</td>\n",
       "      <td>0</td>\n",
       "      <td>1</td>\n",
       "    </tr>\n",
       "  </tbody>\n",
       "</table>\n",
       "</div>"
      ],
      "text/plain": [
       "   visitorid  view_count  bought_count  addtocart_count  no_view_purchase  \\\n",
       "0          0           3             0                0                 0   \n",
       "1          1           1             0                0                 0   \n",
       "2          2           8             0                0                 0   \n",
       "3          3           1             0                0                 0   \n",
       "4          4           1             0                0                 0   \n",
       "\n",
       "   label  \n",
       "0      1  \n",
       "1      1  \n",
       "2      1  \n",
       "3      1  \n",
       "4      1  "
      ]
     },
     "execution_count": 115,
     "metadata": {},
     "output_type": "execute_result"
    }
   ],
   "source": [
    "final_features.head()"
   ]
  },
  {
   "cell_type": "code",
   "execution_count": 116,
   "id": "3c9856c2",
   "metadata": {},
   "outputs": [
    {
     "data": {
      "text/plain": [
       "1    1398610\n",
       "0       8970\n",
       "Name: label, dtype: int64"
      ]
     },
     "execution_count": 116,
     "metadata": {},
     "output_type": "execute_result"
    }
   ],
   "source": [
    "final_features.label.value_counts()"
   ]
  },
  {
   "cell_type": "markdown",
   "id": "49647a00",
   "metadata": {},
   "source": [
    "**Due to the huge imbalance between the 2 classes i think it will be a good choice if you down sampled the bigger calss**"
   ]
  },
  {
   "cell_type": "code",
   "execution_count": 117,
   "id": "637977e8",
   "metadata": {},
   "outputs": [],
   "source": [
    "normal = final_features[final_features.label==0]\n",
    "abnormal = final_features[final_features.label==1]"
   ]
  },
  {
   "cell_type": "code",
   "execution_count": 118,
   "id": "a7df6e18",
   "metadata": {},
   "outputs": [],
   "source": [
    "abnormal = abnormal.sample(20000)"
   ]
  },
  {
   "cell_type": "code",
   "execution_count": 119,
   "id": "c97d166f",
   "metadata": {},
   "outputs": [
    {
     "data": {
      "text/html": [
       "<div>\n",
       "<style scoped>\n",
       "    .dataframe tbody tr th:only-of-type {\n",
       "        vertical-align: middle;\n",
       "    }\n",
       "\n",
       "    .dataframe tbody tr th {\n",
       "        vertical-align: top;\n",
       "    }\n",
       "\n",
       "    .dataframe thead th {\n",
       "        text-align: right;\n",
       "    }\n",
       "</style>\n",
       "<table border=\"1\" class=\"dataframe\">\n",
       "  <thead>\n",
       "    <tr style=\"text-align: right;\">\n",
       "      <th></th>\n",
       "      <th>visitorid</th>\n",
       "      <th>view_count</th>\n",
       "      <th>bought_count</th>\n",
       "      <th>addtocart_count</th>\n",
       "      <th>no_view_purchase</th>\n",
       "      <th>label</th>\n",
       "    </tr>\n",
       "  </thead>\n",
       "  <tbody>\n",
       "    <tr>\n",
       "      <th>186</th>\n",
       "      <td>186</td>\n",
       "      <td>2</td>\n",
       "      <td>1</td>\n",
       "      <td>1</td>\n",
       "      <td>0</td>\n",
       "      <td>0</td>\n",
       "    </tr>\n",
       "    <tr>\n",
       "      <th>264</th>\n",
       "      <td>264</td>\n",
       "      <td>3</td>\n",
       "      <td>2</td>\n",
       "      <td>2</td>\n",
       "      <td>0</td>\n",
       "      <td>0</td>\n",
       "    </tr>\n",
       "    <tr>\n",
       "      <th>419</th>\n",
       "      <td>419</td>\n",
       "      <td>4</td>\n",
       "      <td>1</td>\n",
       "      <td>1</td>\n",
       "      <td>0</td>\n",
       "      <td>0</td>\n",
       "    </tr>\n",
       "    <tr>\n",
       "      <th>539</th>\n",
       "      <td>539</td>\n",
       "      <td>4</td>\n",
       "      <td>1</td>\n",
       "      <td>2</td>\n",
       "      <td>0</td>\n",
       "      <td>0</td>\n",
       "    </tr>\n",
       "    <tr>\n",
       "      <th>914</th>\n",
       "      <td>914</td>\n",
       "      <td>1</td>\n",
       "      <td>1</td>\n",
       "      <td>1</td>\n",
       "      <td>0</td>\n",
       "      <td>0</td>\n",
       "    </tr>\n",
       "  </tbody>\n",
       "</table>\n",
       "</div>"
      ],
      "text/plain": [
       "     visitorid  view_count  bought_count  addtocart_count  no_view_purchase  \\\n",
       "186        186           2             1                1                 0   \n",
       "264        264           3             2                2                 0   \n",
       "419        419           4             1                1                 0   \n",
       "539        539           4             1                2                 0   \n",
       "914        914           1             1                1                 0   \n",
       "\n",
       "     label  \n",
       "186      0  \n",
       "264      0  \n",
       "419      0  \n",
       "539      0  \n",
       "914      0  "
      ]
     },
     "execution_count": 119,
     "metadata": {},
     "output_type": "execute_result"
    }
   ],
   "source": [
    "final_features = pd.concat([normal,abnormal],axis=0)\n",
    "final_features.head()"
   ]
  },
  {
   "cell_type": "code",
   "execution_count": 120,
   "id": "b57b548e",
   "metadata": {},
   "outputs": [
    {
     "name": "stdout",
     "output_type": "stream",
     "text": [
      "number of normal is 8970 \n"
     ]
    }
   ],
   "source": [
    "print(\"number of normal is {0} \".format(len(normal)))"
   ]
  },
  {
   "cell_type": "markdown",
   "id": "f3fae039",
   "metadata": {},
   "source": [
    "## Building our model "
   ]
  },
  {
   "cell_type": "code",
   "execution_count": 121,
   "id": "b0db7b72",
   "metadata": {
    "scrolled": true
   },
   "outputs": [
    {
     "name": "stdout",
     "output_type": "stream",
     "text": [
      "(20279, 5)\n",
      "(8691, 5)\n",
      "(20279,)\n",
      "(8691,)\n"
     ]
    }
   ],
   "source": [
    "data = final_features.drop(columns=\"label\")\n",
    "y = final_features[\"label\"]\n",
    "X_train, X_test, y_train, y_test = train_test_split(data, \n",
    "                                                    y,random_state = 42,\n",
    "                                                    train_size = 0.7,\n",
    "                                                    shuffle=True,\n",
    "                                                    stratify=y)\n",
    "\n",
    "print(X_train.shape)\n",
    "print(X_test.shape)\n",
    "print(y_train.shape)\n",
    "print(y_test.shape)\n"
   ]
  },
  {
   "cell_type": "markdown",
   "id": "acc71d7f",
   "metadata": {},
   "source": [
    "**simple Logistic regression**"
   ]
  },
  {
   "cell_type": "code",
   "execution_count": 122,
   "id": "c210918f",
   "metadata": {},
   "outputs": [
    {
     "data": {
      "text/plain": [
       "LogisticRegression()"
      ]
     },
     "execution_count": 122,
     "metadata": {},
     "output_type": "execute_result"
    }
   ],
   "source": [
    "from sklearn.linear_model import LogisticRegression\n",
    "from sklearn import metrics\n",
    "logreg = LogisticRegression()\n",
    "logreg.fit(X_train, y_train)\n"
   ]
  },
  {
   "cell_type": "code",
   "execution_count": 123,
   "id": "6ce542c2",
   "metadata": {},
   "outputs": [],
   "source": [
    "lr_pred = logreg.predict(X_test)"
   ]
  },
  {
   "cell_type": "code",
   "execution_count": 124,
   "id": "38d5d292",
   "metadata": {},
   "outputs": [
    {
     "name": "stdout",
     "output_type": "stream",
     "text": [
      "recall_score =  1.0000\n",
      "precision_score =  0.6904\n",
      "f1_score =  0.8168\n"
     ]
    }
   ],
   "source": [
    "print('recall_score = {:7.4f}'.format(metrics.recall_score(y_test, lr_pred)))\n",
    "print('precision_score = {:7.4f}'.format(metrics.precision_score(y_test, lr_pred)))\n",
    "print('f1_score = {:7.4f}'.format(metrics.f1_score(y_test, lr_pred)))"
   ]
  },
  {
   "cell_type": "markdown",
   "id": "517157eb",
   "metadata": {},
   "source": [
    "**Random forest Ensamble model**"
   ]
  },
  {
   "cell_type": "code",
   "execution_count": 125,
   "id": "a9a9d03b",
   "metadata": {},
   "outputs": [
    {
     "name": "stdout",
     "output_type": "stream",
     "text": [
      "\n",
      "Classification Report\n",
      "               precision    recall  f1-score   support\n",
      "\n",
      "           0       1.00      1.00      1.00      2691\n",
      "           1       1.00      1.00      1.00      6000\n",
      "\n",
      "    accuracy                           1.00      8691\n",
      "   macro avg       1.00      1.00      1.00      8691\n",
      "weighted avg       1.00      1.00      1.00      8691\n",
      "\n"
     ]
    }
   ],
   "source": [
    "from sklearn.ensemble import RandomForestClassifier\n",
    "rf = RandomForestClassifier(max_depth=4,criterion=\"entropy\",max_features=\"auto\")\n",
    "rf.fit(X_train,y_train)\n",
    "rf_pred = rf.predict(X_test)\n",
    "print('\\nClassification Report\\n',metrics.classification_report(y_test, rf_pred))"
   ]
  },
  {
   "cell_type": "markdown",
   "id": "746e33ad",
   "metadata": {},
   "source": [
    "**our model can easily predict abnormal user from the features we generated**"
   ]
  }
 ],
 "metadata": {
  "kernelspec": {
   "display_name": "Python 3 (ipykernel)",
   "language": "python",
   "name": "python3"
  },
  "language_info": {
   "codemirror_mode": {
    "name": "ipython",
    "version": 3
   },
   "file_extension": ".py",
   "mimetype": "text/x-python",
   "name": "python",
   "nbconvert_exporter": "python",
   "pygments_lexer": "ipython3",
   "version": "3.8.10"
  }
 },
 "nbformat": 4,
 "nbformat_minor": 5
}
